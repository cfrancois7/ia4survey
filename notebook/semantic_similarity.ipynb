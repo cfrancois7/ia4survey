{
 "cells": [
  {
   "cell_type": "code",
   "execution_count": 1,
   "metadata": {},
   "outputs": [
    {
     "name": "stderr",
     "output_type": "stream",
     "text": [
      "/home/machine_learning/.anaconda3/envs/ia4gov/lib/python3.11/site-packages/tqdm/auto.py:21: TqdmWarning: IProgress not found. Please update jupyter and ipywidgets. See https://ipywidgets.readthedocs.io/en/stable/user_install.html\n",
      "  from .autonotebook import tqdm as notebook_tqdm\n"
     ]
    }
   ],
   "source": [
    "# IO\n",
    "import json\n",
    "import os\n",
    "from datasets import Dataset\n",
    "from pathlib import Path\n",
    "\n",
    "# Machine learning\n",
    "import numpy as np\n",
    "from sentence_transformers import SentenceTransformer"
   ]
  },
  {
   "cell_type": "code",
   "execution_count": 1,
   "metadata": {},
   "outputs": [
    {
     "ename": "NameError",
     "evalue": "name 'os' is not defined",
     "output_type": "error",
     "traceback": [
      "\u001b[0;31m---------------------------------------------------------------------------\u001b[0m",
      "\u001b[0;31mNameError\u001b[0m                                 Traceback (most recent call last)",
      "\u001b[1;32m/home/machine_learning/projects/ia4gov/notebook/test_camembert_large.ipynb Cell 2\u001b[0m line \u001b[0;36m1\n\u001b[0;32m----> <a href='vscode-notebook-cell://wsl%2Bubuntu-22.04/home/machine_learning/projects/ia4gov/notebook/test_camembert_large.ipynb#W1sdnNjb2RlLXJlbW90ZQ%3D%3D?line=0'>1</a>\u001b[0m os\u001b[39m.\u001b[39msched_getaffinity(\u001b[39m0\u001b[39m)\n",
      "\u001b[0;31mNameError\u001b[0m: name 'os' is not defined"
     ]
    }
   ],
   "source": [
    "os.sched_getaffinity(0)"
   ]
  },
  {
   "cell_type": "code",
   "execution_count": 2,
   "metadata": {},
   "outputs": [],
   "source": [
    "# Constant\n",
    "DATA_PATH = Path('../data/original/LA_FISCALITE_ET_LES_DEPENSES_PUBLIQUES_06022019.json')\n",
    "MODEL_NAME = \"dangvantuan/sentence-camembert-large\""
   ]
  },
  {
   "cell_type": "code",
   "execution_count": 3,
   "metadata": {},
   "outputs": [],
   "source": [
    "with open(DATA_PATH) as f:\n",
    "    data = json.load(f)"
   ]
  },
  {
   "cell_type": "markdown",
   "metadata": {},
   "source": [
    "# Reformat with HF dataset"
   ]
  },
  {
   "cell_type": "code",
   "execution_count": 20,
   "metadata": {},
   "outputs": [],
   "source": [
    "from datasets import Dataset, DatasetInfo"
   ]
  },
  {
   "cell_type": "code",
   "execution_count": 4,
   "metadata": {},
   "outputs": [],
   "source": [
    "def get_question_list(data):\n",
    "    questions = {}\n",
    "    for r in data[0][\"responses\"]:\n",
    "        question = r[\"questionTitle\"]\n",
    "        question_id = r[\"questionId\"]\n",
    "        questions[question_id] = question\n",
    "    return questions\n",
    "\n",
    "\n",
    "def get_question(data, question_id):\n",
    "    question_id = str(question_id)\n",
    "    question = None\n",
    "    for r in data[0][\"responses\"]:\n",
    "        if r[\"questionId\"] == question_id:\n",
    "            question = r[\"questionTitle\"]\n",
    "    return question\n",
    "\n",
    "\n",
    "def get_response(data, question_id, return_none=False):\n",
    "    question_id = str(question_id)\n",
    "    responses = []\n",
    "    for d in data:\n",
    "        for r in d[\"responses\"]:\n",
    "            if r[\"questionId\"] == question_id:\n",
    "                responses.append(r[\"value\"])\n",
    "    if return_none is False:\n",
    "        responses = [r for r in responses if r is not None]\n",
    "    return responses"
   ]
  },
  {
   "cell_type": "code",
   "execution_count": 9,
   "metadata": {},
   "outputs": [
    {
     "data": {
      "text/plain": [
       "{'162': \"Quelles sont toutes les choses qui pourraient être faites pour améliorer l'information des citoyens sur l'utilisation des impôts ?\",\n",
       " '163': 'Que faudrait-il faire pour rendre la fiscalité plus juste et plus efficace ?',\n",
       " '164': \"Quels sont selon vous les impôts qu'il faut baisser en priorité ?\",\n",
       " '206': 'Afin de financer les dépenses sociales, faut-il selon vous...',\n",
       " '205': \"S'il faut selon vous revoir les conditions d'attribution de certaines aides sociales, lesquelles doivent être concernées ?\",\n",
       " '165': 'Quels sont les domaines prioritaires où notre protection sociale doit être renforcée ?',\n",
       " '166': \"Pour quelle(s) politique(s) publique(s) ou pour quels domaines d'action publique, seriez-vous prêts à payer plus d'impôts ?\",\n",
       " '167': \"Y a-t-il d'autres points sur les impôts et les dépenses sur lesquels vous souhaiteriez vous exprimer ?\"}"
      ]
     },
     "execution_count": 9,
     "metadata": {},
     "output_type": "execute_result"
    }
   ],
   "source": [
    "get_question_list(data)"
   ]
  },
  {
   "cell_type": "code",
   "execution_count": 14,
   "metadata": {},
   "outputs": [
    {
     "name": "stdout",
     "output_type": "stream",
     "text": [
      "Question :  Que faudrait-il faire pour rendre la fiscalité plus juste et plus efficace ?\n",
      "Example of answer: Repartir les richesses.  suppression de la taxe d habitation pour tous les français et de la csg reindexé les retraites  . Ne plus diviser les français (les patrons ont besoin des plus modestes et vice versa. Les patrons ne réussisses que si les plus modestes sont aussi avec eux) . Les français ne veulent plus de l assistanat mais veulent vivre dignement de leur salaire\n"
     ]
    }
   ],
   "source": [
    "question_id = 163\n",
    "question = get_question(data, question_id=question_id)\n",
    "\n",
    "responses = get_response(data, question_id=question_id)\n",
    "partial_responses = responses[::20]\n",
    "print(\"Question : \", question)\n",
    "print(\"Example of answer:\", partial_responses[0])"
   ]
  },
  {
   "cell_type": "code",
   "execution_count": 34,
   "metadata": {},
   "outputs": [
    {
     "name": "stderr",
     "output_type": "stream",
     "text": [
      "/home/machine_learning/.anaconda3/envs/ia4gov/lib/python3.11/site-packages/datasets/table.py:1395: FutureWarning: promote has been superseded by mode='default'.\n",
      "  block_group = [InMemoryTable(cls._concat_blocks(list(block_group), axis=axis))]\n",
      "/home/machine_learning/.anaconda3/envs/ia4gov/lib/python3.11/site-packages/datasets/table.py:1421: FutureWarning: promote has been superseded by mode='default'.\n",
      "  table = cls._concat_blocks(blocks, axis=0)\n"
     ]
    },
    {
     "data": {
      "text/plain": [
       "Dataset({\n",
       "    features: ['content', 'embeddings'],\n",
       "    num_rows: 53724\n",
       "})"
      ]
     },
     "execution_count": 34,
     "metadata": {},
     "output_type": "execute_result"
    }
   ],
   "source": [
    "data = Dataset.from_list(\n",
    "    mapping=[{\"content\": r} for r in responses],\n",
    "    info=DatasetInfo(description=f\"Answer to question: {question}\"),\n",
    ")\n",
    "data.add_column(\"embeddings\", [None] * data.num_rows)"
   ]
  },
  {
   "cell_type": "code",
   "execution_count": 35,
   "metadata": {},
   "outputs": [],
   "source": [
    "def semantic_embedding(content, model):\n",
    "    embeddings = model.encode(content)\n",
    "    return {'embeddings':embeddings}"
   ]
  },
  {
   "cell_type": "code",
   "execution_count": 37,
   "metadata": {},
   "outputs": [
    {
     "name": "stderr",
     "output_type": "stream",
     "text": [
      "No sentence-transformers model found with name /home/machine_learning/.cache/torch/sentence_transformers/dangvantuan_sentence-camembert-large. Creating a new one with MEAN pooling.\n"
     ]
    }
   ],
   "source": [
    "sts_model = SentenceTransformer(MODEL_NAME)\n",
    "sts_model.max_seq_length = 512"
   ]
  },
  {
   "cell_type": "code",
   "execution_count": 44,
   "metadata": {},
   "outputs": [
    {
     "name": "stderr",
     "output_type": "stream",
     "text": [
      "Map: 100%|██████████| 53724/53724 [22:41<00:00, 39.47 examples/s]\n"
     ]
    }
   ],
   "source": [
    "data = data.map(\n",
    "    semantic_embedding,\n",
    "    fn_kwargs={\"model\": sts_model},\n",
    "    input_columns='content',\n",
    "    num_proc=1,\n",
    "    batch_size=256,\n",
    ")"
   ]
  },
  {
   "cell_type": "code",
   "execution_count": 49,
   "metadata": {},
   "outputs": [
    {
     "name": "stderr",
     "output_type": "stream",
     "text": [
      "Saving the dataset (1/1 shards): 100%|██████████| 53724/53724 [00:00<00:00, 305008.50 examples/s]\n"
     ]
    }
   ],
   "source": [
    "save_path = Path(f\"../data/{question_id}\")\n",
    "save_path.mkdir(exist_ok=True)\n",
    "data.save_to_disk(save_path)"
   ]
  },
  {
   "cell_type": "markdown",
   "metadata": {},
   "source": [
    "# Content exploration"
   ]
  },
  {
   "cell_type": "code",
   "execution_count": 11,
   "metadata": {},
   "outputs": [],
   "source": [
    "from pacmap import PaCMAP\n",
    "from umap import UMAP\n",
    "\n",
    "\n",
    "def get_embeddings(data, model, indexes=None):\n",
    "    if indexes is None:\n",
    "        select_data = data\n",
    "    else:\n",
    "        select_data = [d for i, d in enumerate(data) if i in indexes]\n",
    "    embeddings = model.encode(select_data, show_progress_bar=True)\n",
    "    return embeddings\n",
    "\n",
    "\n",
    "def get_embeddings_2d(data, indexes=None, n_components=2, distance=\"angular\"):\n",
    "    embeddings = get_embeddings(data, indexes)\n",
    "    projector = PaCMAP(n_components=n_components, distance=distance)\n",
    "    projector.fit(embeddings)\n",
    "    embeddings_2d = projector.transform(embeddings, basis=embeddings)\n",
    "    return embeddings_2d\n",
    "\n",
    "\n",
    "def pacmap_embeddings(data, n_components=2, distance=\"angular\", **kwargs):\n",
    "    projector = PaCMAP(n_components=n_components, distance=distance, **kwargs)\n",
    "    projector.fit(data)\n",
    "    embeddings_2d = projector.transform(data, basis=data)\n",
    "    return embeddings_2d\n",
    "\n",
    "\n",
    "def umap_embeddings(data, n_components=2, metric=\"cosine\", **kwargs):\n",
    "    projector = UMAP(n_components=n_components, metric=metric, **kwargs)\n",
    "    projector.fit(data)\n",
    "    embeddings_2d = projector.transform(data)\n",
    "    return embeddings_2d"
   ]
  },
  {
   "cell_type": "markdown",
   "metadata": {},
   "source": [
    "## Topic definition"
   ]
  },
  {
   "cell_type": "code",
   "execution_count": 50,
   "metadata": {},
   "outputs": [],
   "source": [
    "import matplotlib.pyplot as plt\n",
    "from sklearn.cluster import HDBSCAN, DBSCAN, AgglomerativeClustering"
   ]
  },
  {
   "cell_type": "markdown",
   "metadata": {},
   "source": [
    "**Protocol**\n",
    "- project/calculate the embedding in new reduced space\n",
    "- get the cluster\n",
    "- reproject in 2D to display with cluster number.\n",
    "- check some texts."
   ]
  },
  {
   "cell_type": "code",
   "execution_count": 145,
   "metadata": {},
   "outputs": [
    {
     "name": "stdout",
     "output_type": "stream",
     "text": [
      "Question : \n",
      "Example of answer: Repartir les richesses.  suppression de la taxe d habitation pour tous les français et de la csg reindexé les retraites  . Ne plus diviser les français (les patrons ont besoin des plus modestes et vice versa. Les patrons ne réussisses que si les plus modestes sont aussi avec eux) . Les français ne veulent plus de l assistanat mais veulent vivre dignement de leur salaire\n"
     ]
    }
   ],
   "source": [
    "question_id = 163\n",
    "question = get_question(data, question_id = question_id)\n",
    "\n",
    "responses = get_response(data, question_id = question_id)\n",
    "partial_responses = responses[::20]\n",
    "print('Question : ')\n",
    "print('Example of answer:', partial_responses[0])"
   ]
  },
  {
   "cell_type": "code",
   "execution_count": null,
   "metadata": {},
   "outputs": [],
   "source": [
    "responses = get_response(data, question_id=question_id)\n",
    "partial_responses = responses[::20]\n",
    "\n",
    "embeddings = get_embeddings(partial_responses, sts_model)"
   ]
  },
  {
   "cell_type": "code",
   "execution_count": 15,
   "metadata": {},
   "outputs": [
    {
     "name": "stderr",
     "output_type": "stream",
     "text": [
      "/home/machine_learning/.anaconda3/envs/ia4gov/lib/python3.11/site-packages/pacmap/pacmap.py:819: UserWarning: Warning: random state is set to 42\n",
      "  warnings.warn(f'Warning: random state is set to {_RANDOM_STATE}')\n",
      "/home/machine_learning/.anaconda3/envs/ia4gov/lib/python3.11/site-packages/pacmap/pacmap.py:819: UserWarning: Warning: random state is set to 42\n",
      "  warnings.warn(f'Warning: random state is set to {_RANDOM_STATE}')\n"
     ]
    }
   ],
   "source": [
    "embeddings_ = pacmap_embeddings(embeddings, n_components=10, random_state=42)\n",
    "embeddings_2d = pacmap_embeddings(embeddings, n_components=2, random_state=42)"
   ]
  },
  {
   "cell_type": "code",
   "execution_count": 16,
   "metadata": {},
   "outputs": [
    {
     "name": "stdout",
     "output_type": "stream",
     "text": [
      "[-1  0  1  2  3  4  5  6  7  8  9 10 11 12]\n"
     ]
    },
    {
     "data": {
      "image/png": "[encoded data removed]",
      "text/plain": [
       "<Figure size 640x480 with 1 Axes>"
      ]
     },
     "metadata": {},
     "output_type": "display_data"
    }
   ],
   "source": [
    "clusterer = HDBSCAN(\n",
    "    cluster_selection_epsilon=0.4,\n",
    "    alpha=1,\n",
    "    min_samples=20,\n",
    "    min_cluster_size=20\n",
    ")\n",
    "\n",
    "clusterer.fit(embeddings_)\n",
    "categories = clusterer.labels_\n",
    "unique_categories = np.unique(categories)\n",
    "print(unique_categories)\n",
    "\n",
    "mask = categories >= 0\n",
    "plt.scatter(*embeddings_2d[mask].T, s=2, c=categories[mask], cmap=plt.cm.tab20)\n",
    "plt.scatter(*embeddings_2d[~mask].T, s=2, c='grey', alpha=0.1)\n",
    "# plt.scatter(*embeddings_2d[categories== 8].T, s=20, cmap=plt.cm.tab10)\n",
    "plt.show()"
   ]
  },
  {
   "cell_type": "code",
   "execution_count": 17,
   "metadata": {},
   "outputs": [
    {
     "name": "stdout",
     "output_type": "stream",
     "text": [
      "############ CATEGORIE 0 #########\n",
      "Size of the cluster: 54\n",
      "-- En premier lieu, il conviendrait de réduire le nombre d'impôts et de taxes visant les citoyens.\n",
      "Supprimer purement et simplement la taxe d'habitation.\n",
      "Supprimer la taxe foncière qui est un impôt particulièrement injuste parce qu'il touche la propriété acquise, qu'il s'agisse ou pas de la résidence principale, conduisant selon les localités à payer deux fois ou plus sa propriété.\n",
      "Pour alimenter les caisses des collectivités territoriales, il faudrait qu'elles déterminent une part de la TVA ou de l'IRPP, ce qui de surcroît les conduirait à jouer sur l'attractivité de leur territoire.\n",
      "-- Impot sur le revenu pour tous en comptant les aides sociales ou pour personne\n",
      "Annulation de la taxe d’habitation pour tout le monde\n",
      "Arrêt du matraque fiscal des classes moyennes superieures\n",
      "-- - supprimer la taxe d'amenagement\n",
      "- retablir l'ISF\n",
      "- faire en sorte que tous paient la taxe d'habitation ou tous en soient exonérés\n",
      "-- La suppression de la taxe foncière et de la taxe d'habitation et de les inclure dans l’impôt sur le revenu.\n",
      "-- revoir la taxe fonciere, à bien equivalent je paie 2 fois plus cher que mon voisin\n",
      "\n",
      "\n",
      "############ CATEGORIE 1 #########\n",
      "Size of the cluster: 147\n",
      "-- Etendre l'impôt sur le revenu vers le bas pour des sommes symboliques, même 1 Euros, mais qui concernent tout le monde. Faire un impôt sur le revenu plus progressif au dessus de 4000 Euros mensuels par personne, ne pas dépasser 47% des revenus. Augmenter fortement l'impôt sur les revenus foncier supérieurs à 12 000 Euros mensuels, ne pas imposer les revenus fonciers des retraités, inférieurs à 2000 Euros mensuels. Augmenter la TVA à 26% sur les sucreries non produites artisanalement, et sur les produits mauvais pour la santé, type chips, ketchup, alcool, cigarettes, huile de palme, en l'indiquant sur le paquet : \"TVA augmentée car nuit à la santé\".  Limiter les allocations familiales aux familles qui en ont besoin. Taxe sur les produits polluants et les plastiques. Crédit d'impôt pour le développement et l'utilisation de l'énergie solaire.\n",
      "-- IGC supprimé - mais 2 points supplémentaires sur la TVA TVA à 5,5 % produits 1ère nécessité\n",
      "- suppression niches fiscales et bouclier fiscal- CAC 40 imposé comme les petites entreprises 30%\n",
      "-- pouvoir d'achat\n",
      "-- Il faut rétablir le système de plusieurs tranches en plus approfondi, plus équitable. Il faut aussi revoir a TVA notamment sur les produits indispensables et le reste. Il faut l'adapter en fonction du bien du service: par exemple au niveau amélioration du logement, mettre tout au même niveau; pas de TVA à 10% pour certains matériaux et 5%  pour d'autres ce qui actuellement est un casse-tête au niveau facturation quand on fait faire des travaux.\n",
      "-- 1) Tout le monde contribue à l'impôt en proportion 2 ) Les impôts indirects TVA et  autres doivent être lourds pour la consommation de biens de luxe , voir rares\n",
      "\n",
      "\n",
      "############ CATEGORIE 2 #########\n",
      "Size of the cluster: 77\n",
      "-- un taux unique et la suppression totale des niches fiscales\n",
      "-- supprimer la plupart des niches\n",
      "faire en sorte que tout le monde paye l'IRPP, même de façon symbolique\n",
      "-- pour qu'un impôt soit efficace, il faut : 1/ une assiette large (tous le monde doit payer l'impôt sur le revenu, cela responsabilise les citoyens, rien n'est gratuit) et 2/ un plafond non confiscatoire (un plafond maximum au alentour de 35%-40%, cela évite la fuite de capitaux et limite les \"combines\" pour payer moins d'impôts). 3/ et important, tous les revenus doivent être pris en compte dans le calcul des impôts (revenu social, du travail et du capital). 4/ Et dernier point, supprimer un maximum les niches fiscales\n",
      "-- Simplifier la fiscalité en réétudiant toutes les niches fiscales et en supprimant celles qui sont obsolètes  ou faites pour favoriser une catégorie de contribuable.\n",
      "Supprimer l'optimisation fiscale, l'impôt doit être juste et ces techniques sont donc à bannir.\n",
      "Faire de réels efforts (et pas des discours) sur la lutte contre la fraude fiscale (souvent organisée grâce à la complexité du système fiscal et à ses multiple incohérences).\n",
      "-- les niches fiscales réservées à certains. Arrêtez de croire que ceux qui gagnent en région parisienne 4000 euros sont les riches à imposer plus. Ridicule\n",
      "\n",
      "\n",
      "############ CATEGORIE 3 #########\n",
      "Size of the cluster: 29\n",
      "-- Supprimer la notion de CSG déductible et non déductible et rendre la CSG déductible des revenus (cas des retraités)? Il est anormal de payer des impôts sur une taxe : c'est la double imposition.\n",
      "-- Supprimer la réintégration de la csg sur le revenu imposable. On doit pouvoir déduire cet impôt en totalité du revenu. On est imposé sur un revenu qui ne correspond pas a ce que l' ion a perçu en réalité, voilà une injustice parmi d'autre.\n",
      "-- Supprimer la notion de CSG déductible et non déductible et rendre la CSG déductible des revenus (cas des retraités)? Il est anormal de payer des impôts sur une taxe : c'est la double imposition.\n",
      "-- le modèle de la CSG et CRDS semble plus juste car elle concerne tous les revenus  est proportionnelle et non pas progressive et une partie déductible pour tous\n",
      "-- -CSG ajustée en fonction des revenus déclarés au fisc.\n",
      "-supprimer l'impôt sur l'impôt,c'est à dire la CSG non déductible.\n",
      "-faire payer l'impôt sur le revenu par tous.\n",
      "\n",
      "\n",
      "############ CATEGORIE 4 #########\n",
      "Size of the cluster: 264\n",
      "-- Créer une tranche d’imposition supplémentaire à 60% pour les plus riches au-delà de 200 000 € annuels. Diminuer de 2 % chacune des autres tranches d’imposition intermédiaires. Taxer les GAFA et les grandes entreprises aux mêmes taux que les PME. Baisser le plafond des niches fiscales de 20%, sauf celles concernant l’isolation des immeubles. Plafonner les allocations familiales, les supprimer au-delà de 120 000€ de salaire annuel.\n",
      "Retirer l’armée française de Syrie et du Mali et supprimer 70 000 postes de militaires, supprimer les armes nucléaires, diminuer ainsi de 50 % le budget de l’armée créant en parallèle 10 000 postes de policiers pour faire respecter les lois en France, 10 000 dans les hôpitaux et 10 000 dans les crèches (dotations aux collectivités locales), 10 000 dans les écoles, 5000 chez les pompiers et 5 000 dans la gestion délaissée des forêts domaniales et communales françaises, 5000 au ministères de l’environnement pour faire respecter les lois sur la biodiversité et le respect du littoral. Créer (10 000 agents) un établissement public d’état de recherche et de production d’énergies renouvelables. Augmenter le nombre de fonctionnaires des impôts (+ 5000 agents) afin de chasser les fraudeurs et l’évasion fiscale. Augmenter les amendes concernant l’évasion fiscale.\n",
      "Le reste des économies faites sur le budget de l’armée (tank, missile, nucléaire, avions, porte-avions hors de prix) contribueront au remboursement de la dette. Interdire les ventes d’armes à l’étranger ; en priorité, interdire les ventes d’armes à l’Arabie saoudite qui contribuent à la guerre au Yémen.\n",
      "-- Pour moi, cette question ne veut rien dire\n",
      "-- Revoir les salaires de ceux que nos impôts financent. Gagner plus de 5000e/mois pour un élu, je n en  vois pas l'intérêt ! Il faut rester juste et réaliste pour tous. Moins de salaires injustifiés à financer, plus de trésorerie pour autre chose ...\n",
      "-- Suppression du cumul des rémunérations des parlementaires, en activité ou en retraite. Suppression des privilèges accordés aux anciens présidents de la République. Baisser les rémunérations des parlementaires.\n",
      "-- Le système actuel avec une imposition progressive pourrait convenir. Au lieu de l'ISF, on pourrait créer un impôt volontaire que les grosses fortunes dotées d'un esprit citoyen paieraient. Toutes ne sont pas centrées sur leur nombril. Pour les présidents, députés et ministres, fin des retraites au bout de quelques mois/années, arrêt des avantages en nature démesurés. Les conseillers municipaux sont bénévoles, les maires très peu payés. La politique est une vocation, les avides de gains n'ont rien à y faire. Les salaires indécents des hauts fonctionnaires sont aussi à supprimer. En un mois, certains gagnent presque un an de salaire d'un agent territorial.\n",
      "\n",
      "\n",
      "############ CATEGORIE 5 #########\n",
      "Size of the cluster: 359\n",
      "-- que tout le monde paie des impôts selon ses revenus afin de responsabiliser les personnes, c'est notamment la cas des dépenses de sécurité sociale car beaucoup de monde pense que c'est gratuit et en abuse\n",
      "-- impôt sur TOUS les revenus à partit de 1 euro gagné et au même taux pour TOUS les citoyens : pas de punition pour les gens qui réussissent par du travail acharné !\n",
      "-- Paiement d'une contribution lors de la consommation d'un service public afin de sensibiliser à son utilisation et son financement. Instauration d'une dose de \"flat taxe\" sur tous les revenus. Valorisation par l'impôt des revenus du travail par rapport à ceux de la rente (art, immobilier, poste d'administration publique, syndicats professionnels et salariés..).\n",
      "-- Il faudrait que tous les citoyens payent un peu et que les revenus des transferts sociaux soient inclus dans les revenus. Il faudrait une péréquation nationale entre les communes riches et les  pauvres; idem pour les départements\n",
      "-- Tout le monde devrait etre soumis a l impot meme de maniere symbolique\n",
      "\n",
      "\n",
      "############ CATEGORIE 6 #########\n",
      "Size of the cluster: 44\n",
      "-- ajouter des tranches d'imposition\n",
      "-- plus de tranche d'imposition\n",
      "-- des tranches plus nombreuses aussi bien pour les impôts que pour les aides sociales\n",
      "-- Augmenter le taux d'imposition pour la tranche la plus forte\n",
      "-- plus de tranches pour l'impot sur le revenu\n",
      "\n",
      "\n",
      "############ CATEGORIE 7 #########\n",
      "Size of the cluster: 93\n",
      "-- qu'elle soit proportionnelle aux revenus , si je donne 10% de mon salaire, si je gagne 2000€ ou 6000 par mois, il ne me reste pas la même chose pour vivre\n",
      "-- Tout le monde doit être imposable.\n",
      "Tout le monde doit payer la même somme pour la cantine, les transports, le logement...\n",
      "C'est inadmissible qu'avec les aides sociales, les enfants (CAF). les réductions selon le quotien familial, les primes en tout genre, les personnes sans emploi vivent mieux qu celles qui travaillent ou ont une retraite de moins de 2000 euros.\n",
      "-- Nos élites n’arrêtent pas de créer toutes sorte de systèmes de prélèvement ou d’aides sous conditions de ressources.\n",
      "Les seuils sont partout, ils génèrent quantité d’effets pervers quand ce n’est pas de grandes frustrations.\n",
      "On veut mettre de la redistribution à toutes les sauces pour soi-disant faire de la justice sociale. Au final personne n’est jamais satisfait de sa situation. ---\n",
      "\n",
      "IL FAUT ARRÊTER CETTE FUITE EN AVANT VERS UNE JUSTICE INCOMPRÉHENSIBLE ---\n",
      "\n",
      "Je propose de créer un outil unique de redistribution sociale construite sur l’impôt sur le revenu.\n",
      "Dans chaque foyer, tous les revenus (salaires, bénéfices, plus-values exercées) nets de charges (Assurance maladie, retraite, chômage) et de frais sont pris en compte. \n",
      "La composition du foyer est prise en compte (sur le principe des Unités de Consommation)\n",
      "Un Impôt unique est créé qui regroupe tous les prélèvements existants aujourd’hui sur les revenus (IRPP, CSG, CRDS, ...). ---\n",
      "Le montant de cet impôt est progressif avec un taux variant de 0 % à 70 %. ---\n",
      "Il est appliqué sous forme d’un prélèvement progressif pour tous les revenus mensuels par UC (Unité de Consommation) supérieurs à 1500€. ---\n",
      "Il est appliqué sous forme d’un impôt négatif (Aide sociale unique) pour tous les revenus mensuels par UC inférieurs à 1500€. Le montant de cette aide sociale varie de 750€ par mois et par UC pour un foyer qui n’a aucun revenu et diminue lorsque on a des revenus pour atteindre zéro à 1500€ par UC. (Par exemple Aide par UC = 750€ - (revenu par UC)/2)\n",
      "Les revenus de remplacement sont considérés comme des revenus. ---\n",
      "\n",
      "TOUTES LES AIDES ET AUTRES SUBVENTIONS SOCIALES SONT ABROGÉES.\n",
      "A charge à chacun de prendre sa vie en main pour en tirer le meilleur parti. ---\n",
      "Les ressortissants étranger devront justifier une présence en situation régulière de plusieurs années pour bénéficier de l'aide sociale unique. ---\n",
      "\n",
      "Quelques exemples :\n",
      "Un étudiant majeur autonome et sans emploi touchera 750€ par mois ---\n",
      "Une mère seule avec un enfant de 15 ans sans revenu touchera 1125€ par mois ---\n",
      "Un couple avec 2 enfants de 2 et 5 ans avec 2000€ de revenu nets touchera 575€ par mois ---\n",
      "Un couple avec 2 enfants de 2 et 5 ans avec 3150€ de revenu nets ne touchera rien mais ne payera pas d’impôts\n",
      "-- Tout le monde doit payer des impôts, trop de personnes en France n'en payent pas du tout et vivent des minimas sociaux en cumulant du travail non déclaré , ils s'en sortent souvent mieux qu'une personne qui se lève tous les matins pour aller travailler et qui n'a droit à rien du tout.\n",
      "Le travail doit mieux payer que l’assistanat .\n",
      "-- PRIVILEGIER LE TRAVAIL ET LE GAIN DE REMUNERATION\n",
      "\n",
      "\n",
      "############ CATEGORIE 8 #########\n",
      "Size of the cluster: 54\n",
      "-- SUPPRIMER LE MALUS DES RETRAITES COMPLEMENTAIRES  l'Agirc-Arrco\n",
      "-- moduler la csg retraites selon son montant par foyer fiscal: 0 au-dessous de 2000 brut, de plus en plus élevée au-dessus\n",
      "-- Indexer les retraites et les salaires sur l'inflation, et arrêter de jouer avec 200 aides sociales différentes ! les citoyens ne veulent pas être en position d'assisté, qui passerait son temps à chercher des aides et a se positionner en cas social... il veut gagner un vrai salaire qui suit le coût de la vie. \n",
      "Et surtout ne pas se retrouver avec une double peine comme les retraités, qui ont perdu 10%  de leur pouvoir d'achat en 5 ans et qui se retrouvent avec une imposition supplémentaire ! C'est trop facile.\n",
      "-- UNE FISCALITE PLUS JUSTE COMME SUPPRIMER LA CSG POUR TOUS LES RETRAITES ET INDEXER LES RETRAITES SUR L'INFLATION\n",
      "-- D'abord la faire baisser, sans doute en revoyant totalement la redistribution hors retraites et santé.\n",
      "\n",
      "\n",
      "############ CATEGORIE 9 #########\n",
      "Size of the cluster: 124\n",
      "-- Tout détenteur de la nationalité française, exilé fiscal, verse à i'état français le\"reliquat\" de l’impôt auquel il aurait été redevable s'il était resté imposable en France.\n",
      "-- Nouvelle tranche supérieure.\n",
      "Taxer très fort tous les investissements spéculatifs (achat et vente très rapide)\n",
      "S'occuper enfin de l'évasion fiscale à l'étranger des particuliers\n",
      "Taxer les entreprises qui font des bénéfices sur notre sol et qui ne payent pas d'import en france\n",
      "-- Imposer tout le monde et en particulier les retraités qui partent à l'étranger pour ne pas payer d'impôts. Leur retraite étant payées par la France il serait normal qu'ils s'acquittent de l'impôt en France ou tout au moins d'une partie.\n",
      "-- Raire assujettir à l'impôt les grandes entreprises qui réalisent leurs bénéfices en France. Il semblerait que certains grands groupes de distribution ne payent pas leur impôt en France, alors que se sont les Français qui alimentent leurs gains colossaux: c'est injuste\n",
      "-- creation D’un impôt sur la nationalité et non sur l’a résidence fiscale, ainsi les conséquences de l’evasion Fiscale seraient limitées, car les évadés fiscaux de part cet impôt paieraient la différence à l’etat Français qu’ils ont pu économiser en s’exilant fiscalement\n",
      "\n",
      "\n",
      "############ CATEGORIE 10 #########\n",
      "Size of the cluster: 138\n",
      "-- Lutter contre l'évation et l'optimisation fiscale\n",
      "-- Aller rechercher les évadés fiscaux.\n",
      "-- Tendre vers une harmonisation fiscale européenne pour éviter la concurrence entre états (ex: Irlande)\n",
      "-- Revoir les barèmes d'imposition pour que tout le monde paie\n",
      "Continuer le rapatriement des évadés fiscaux et rendre compte des résultats\n",
      "-- Arrêter les paradis fiscaux en europe\n",
      "\n",
      "\n",
      "############ CATEGORIE 11 #########\n",
      "Size of the cluster: 37\n",
      "-- Augmenter le nombre de tranches (rendre l'impôt proportionnel) revoir l'ISF : oui si investissement vérifié mais après la retraite ????\n",
      "Supprimer la plupart des niches fiscales (fiscalité sur les œuvres d'art, outre mer et Corse, ....) ne garder que les pertinentes qui aident au développement économique et en les limitant\n",
      "-- Il faudrai exonérer d'impôts nos élus locaux et nationaux ainsi que toutes les grandes fortunes afin de favoriser l'investissement et de relancer la croissance.\n",
      "-- Cesser de pénaliser systématiquement les classes moyennes. Jamais aucun avantage . Par ailleurs,  la mise en place de l'IFI est absurde. C'est l'inverse qu'il fallait faire : ne plus imposer sur la résidence principale ( des personnes âgées avec des retraites pas forcément énormes, voire des agriculteurs) se retrouvent à payer l'IFI alors qu'ils n'ont pas une grosse retraite, et ne  peuvent pas forcément vendre leur appartement/maison ( trop âgés pour un déménagement....et ne veulent pas quitter l'endroit dans lequel ils ont vécu). Les études récentes ont montré qu'il n'y a eu aucune augmentation du financement des entreprises avec la suppression de l'ISF, censée favoriser l'investissement ! C'EST une absurdité. Il faut au contrat taxer les personnes qui ont suffisamment de revenus pour investir dans des œuvres d'art à plusieurs millions d'euros, des actions ,etc etc et non pas taxer la résidence principale, qui n'est pas une source de revenus !!!\n",
      "-- La cohésion sociale exige  que la fiscalité soit ressentie comme juste et efficace. La suppression de l'ISF est remise en cause quant aux actifs non immobiliers : il importe de conserver l'ISF sur le patrimoine immobilier et de ne pas la rétablir sur les actifs non immobiliers (financiers) à la condition expresse que le contribuable justifie qu'il a réellement investi dans les P.M.E et T.P.E qui sont créatrices d'emploi et non délocalisables matériellement ou fiscalement.\n",
      "\n",
      "Concernant l'impôt sur le revenu, il faut rétablir une plus grande progressivité ( plus de tranches) et des taux d'imposition plus élévés pour les personnes ayant les plus hauts revenus : c'est l'application des principes de solidarité et d'équité entre les citoyens face aux dépenses de l'Etat.\n",
      "\n",
      "Enfin, le Président de la République et le gouvernement ont totalement raison de vouloir imposer, de manière efficace) les G.A.F.A; de même, de limiter la rémunérations des \"grand patrons\" et hauts fonctionnaires.\n",
      "-- enlever les niches, remettre des tranches, ne pas remettre l' ISF si 100% du montant réinvestit dans TPE/PME ou en recherche ou dons\n",
      "\n",
      "\n",
      "############ CATEGORIE 12 #########\n",
      "Size of the cluster: 21\n",
      "-- taxer plus le capital et moins le travail\n",
      "-- égalité du  taux d'imposition travail/revenu du capital\n",
      "-- Créer un véritable impôt sur les revenus du patrimoine.\n",
      "-- Il faut rendre l'impôt équitable : tous les revenus doivent être soumis à l'impôt y compris ceux du capital et ils doivent être soumis à un impôt plus fort car ils ne sont pas producteurs d'emploi mais de richesse pour ceux qui sont déjà riches (actionnaires). La TVA doit être supprimée sur la nourriture et les biens de première nécessité et il faut transférer le manque à gagner sur les amendes par exemple qui devraient être établies en fonction des revenus comme c'est le cas dans certains pays. L'ISF doit être rétabli amis inclure les revenus du capital.\n",
      "-- Taxer les échanges financiers, les plus values dépassant un certain pourcentage, imposer fortement les salaires dépassant 10 smic mensuels, légaliser le chanvre thérapeutique et récréatif.\n",
      "\n",
      "\n"
     ]
    }
   ],
   "source": [
    "n = 5\n",
    "categories = clusterer.labels_\n",
    "for c in np.unique(categories[categories >= 0]):\n",
    "    idx = np.where(categories == c)[0]\n",
    "    selected_responses = [r for i, r in enumerate(partial_responses) if i in idx]\n",
    "    print(f\"############ CATEGORIE {c} #########\")\n",
    "    print(\"Size of the cluster:\", len(idx))\n",
    "    samples = [np.random.choice(selected_responses) for _ in range(n)]\n",
    "    for rep in samples:\n",
    "        print(\"--\", rep)\n",
    "    print(\"\\n\")"
   ]
  },
  {
   "cell_type": "markdown",
   "metadata": {},
   "source": [
    "**OBSERVATIONS**\n",
    "- simples sentences are well clustered \n",
    "- long sentences embeddes many ideas and proposals etc...\n",
    "- some item are not completelly related to the question.\n",
    "- there are many doppleganger.\n",
    "\n",
    "**CONCLUSION**\n",
    "- It works well at first sight but it is not possible to exploit directly the data like this.\n",
    "- the item should be evaluate regarding the question.\n",
    "- the main idea / proposal should be split.\n",
    "\n",
    "**PROPOSALS**\n",
    "- use LLM to pre-process the items.\n",
    "- ideally, do the work of every data.\n",
    "- to avoid overuse of RAM, use HF datasets\n",
    "- avoid to analyze twice the same content.\n",
    "    - use embedding to drop duplicates.\n",
    "    - apply same results to duplicates."
   ]
  },
  {
   "cell_type": "markdown",
   "metadata": {},
   "source": [
    "**OBSERVATIONS**\n",
    "- failures list : 11"
   ]
  },
  {
   "cell_type": "markdown",
   "metadata": {},
   "source": [
    "# Archives"
   ]
  },
  {
   "cell_type": "code",
   "execution_count": 183,
   "metadata": {},
   "outputs": [],
   "source": [
    "# from bertopic.vectorizers import OnlineCountVectorizer, ClassTfidfTransformer\n",
    "# from sklearn.feature_extraction.text import CountVectorizer\n",
    "# from spacy.lang.fr.stop_words import STOP_WORDS as fr_stop\n",
    "# import spacy\n",
    "# from pandas import DataFrame\n",
    "\n",
    "# nlp = spacy.load(\"fr_core_news_sm\", disable=['parser', 'ner'])\n",
    "\n",
    "# fr_stop = list(fr_stop) + ['qu']\n",
    "\n",
    "# bow = {}\n",
    "# tfidf_results = {}\n",
    "# for c in np.unique(categories):\n",
    "#     idx = np.where(categories == c)[0]\n",
    "#     selected_responses = [r for i, r in enumerate(partial_responses) if i in idx]\n",
    "#     ocv = CountVectorizer(stop_words=fr_stop)\n",
    "#     selected_lemms = []\n",
    "#     for sr in selected_responses:\n",
    "#         doc = nlp(sr)\n",
    "#         lemmas = ' '.join([d.lemma_ for d in doc])\n",
    "#         selected_lemms.append(lemmas)\n",
    "#     word_count_vector = ocv.fit_transform(selected_lemms)\n",
    "#     tfidf_transformer = ClassTfidfTransformer()\n",
    "#     tfidf_transformer.fit(word_count_vector)\n",
    "#     tfidf_results[c] = DataFrame(tfidf_transformer.idf_, index=ocv.get_feature_names_out()).sort_values(by=0, ascending=True)"
   ]
  },
  {
   "cell_type": "markdown",
   "metadata": {},
   "source": [
    "### Apply clustering on embeddings"
   ]
  },
  {
   "cell_type": "code",
   "execution_count": 55,
   "metadata": {},
   "outputs": [],
   "source": [
    "# from scipy.cluster.hierarchy import dendrogram\n",
    "\n",
    "# def plot_dendrogram(model, **kwargs):\n",
    "#     # Create linkage matrix and then plot the dendrogram\n",
    "\n",
    "#     # create the counts of samples under each node\n",
    "#     counts = np.zeros(model.children_.shape[0])\n",
    "#     n_samples = len(model.labels_)\n",
    "#     for i, merge in enumerate(model.children_):\n",
    "#         current_count = 0\n",
    "#         for child_idx in merge:\n",
    "#             if child_idx < n_samples:\n",
    "#                 current_count += 1  # leaf node\n",
    "#             else:\n",
    "#                 current_count += counts[child_idx - n_samples]\n",
    "#         counts[i] = current_count\n",
    "\n",
    "#     linkage_matrix = np.column_stack(\n",
    "#         [model.children_, model.distances_, counts]\n",
    "#     ).astype(float)\n",
    "\n",
    "#     # Plot the corresponding dendrogram\n",
    "#     dendrogram(linkage_matrix, **kwargs)"
   ]
  },
  {
   "cell_type": "code",
   "execution_count": 56,
   "metadata": {},
   "outputs": [],
   "source": [
    "# clusterer = AgglomerativeClustering(distance_threshold=30, linkage='ward', n_clusters=None)\n",
    "\n",
    "# clusterer.fit(embeddings)\n",
    "# categories = clusterer.labels_\n",
    "# unique_categories = np.unique(categories)\n",
    "# print(unique_categories)"
   ]
  },
  {
   "cell_type": "code",
   "execution_count": 57,
   "metadata": {},
   "outputs": [],
   "source": [
    "# plot_dendrogram(clusterer, truncate_mode=\"level\", p=3)"
   ]
  }
 ],
 "metadata": {
  "kernelspec": {
   "display_name": "Python 3 (ipykernel)",
   "language": "python",
   "name": "python3"
  },
  "language_info": {
   "codemirror_mode": {
    "name": "ipython",
    "version": 3
   },
   "file_extension": ".py",
   "mimetype": "text/x-python",
   "name": "python",
   "nbconvert_exporter": "python",
   "pygments_lexer": "ipython3",
   "version": "3.11.5"
  }
 },
 "nbformat": 4,
 "nbformat_minor": 4
}
