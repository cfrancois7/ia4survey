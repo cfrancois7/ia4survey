{
 "cells": [
  {
   "cell_type": "markdown",
   "metadata": {},
   "source": [
    "# Evaluation of semantic similarity on LLM extraction"
   ]
  },
  {
   "cell_type": "markdown",
   "metadata": {},
   "source": [
    "**Protocol**:\n",
    "1. load extracted json\n",
    "2. calculate embeddings\n",
    "3. project on reduce dimension and estimate cluster\n",
    "4. evaluate with naive approach the quality of the cluster\n",
    "5. determine the topic of the cluster\n",
    "    - with LLM iteration"
   ]
  },
  {
   "cell_type": "code",
   "execution_count": 2,
   "metadata": {},
   "outputs": [],
   "source": [
    "import json\n",
    "import pickle as pkl\n",
    "import numpy as np\n",
    "import gc\n",
    "from pathlib import Path\n",
    "from datasets import Dataset\n",
    "from tqdm import tqdm\n",
    "from sentence_transformers import SentenceTransformer"
   ]
  },
  {
   "cell_type": "code",
   "execution_count": 3,
   "metadata": {},
   "outputs": [],
   "source": [
    "RUN_PATH = Path(\"./run\").resolve()\n",
    "DATA_PATH = Path(\"../data/163/\").resolve()\n",
    "MODEL_NAME = \"dangvantuan/sentence-camembert-large\"\n",
    "SAVE_PATH = Path(\"../data/embeddings\").resolve()"
   ]
  },
  {
   "cell_type": "code",
   "execution_count": 4,
   "metadata": {},
   "outputs": [
    {
     "name": "stderr",
     "output_type": "stream",
     "text": [
      "No sentence-transformers model found with name /home/machine_learning/.cache/torch/sentence_transformers/dangvantuan_sentence-camembert-large. Creating a new one with MEAN pooling.\n"
     ]
    }
   ],
   "source": [
    "STS_MODEL = SentenceTransformer(MODEL_NAME)\n",
    "STS_MODEL.max_seq_length = 512"
   ]
  },
  {
   "cell_type": "code",
   "execution_count": 5,
   "metadata": {},
   "outputs": [],
   "source": [
    "with open(RUN_PATH / \"llm_analysis.pkl\", \"rb\") as file:\n",
    "    run_data = pkl.load(file)"
   ]
  },
  {
   "cell_type": "markdown",
   "metadata": {},
   "source": [
    "## Embedding calculation of extracted LLM content"
   ]
  },
  {
   "cell_type": "code",
   "execution_count": 5,
   "metadata": {},
   "outputs": [
    {
     "name": "stderr",
     "output_type": "stream",
     "text": [
      "100%|██████████| 52301/52301 [00:00<00:00, 2045602.24it/s]\n"
     ]
    },
    {
     "data": {
      "text/plain": [
       "Dataset({\n",
       "    features: ['id', 'text'],\n",
       "    num_rows: 169133\n",
       "})"
      ]
     },
     "execution_count": 5,
     "metadata": {},
     "output_type": "execute_result"
    }
   ],
   "source": [
    "extracted_content = []\n",
    "index = []\n",
    "for r in tqdm(run_data):\n",
    "    if r.get(\"main_content\", False):\n",
    "        items = r[\"main_content\"]\n",
    "        extracted_content.extend(items)\n",
    "        index.extend([r[\"id\"]] * len(items))\n",
    "\n",
    "dataset = Dataset.from_list(\n",
    "    [{\"id\": idx_, \"text\": content} for idx_, content in zip(index, extracted_content)]\n",
    ")\n",
    "dataset"
   ]
  },
  {
   "cell_type": "code",
   "execution_count": null,
   "metadata": {},
   "outputs": [],
   "source": [
    "# embeddings = []\n",
    "# for content in tqdm(extracted_content):\n",
    "#     emb_ = sts_model.encode(content)\n",
    "#     embeddings.append(emb_)"
   ]
  },
  {
   "cell_type": "code",
   "execution_count": 8,
   "metadata": {},
   "outputs": [
    {
     "data": {
      "application/vnd.jupyter.widget-view+json": {
       "model_id": "40a15ebd9c514c12aa043e245235dfd3",
       "version_major": 2,
       "version_minor": 0
      },
      "text/plain": [
       "Map:   0%|          | 0/169133 [00:00<?, ? examples/s]"
      ]
     },
     "metadata": {},
     "output_type": "display_data"
    }
   ],
   "source": [
    "dataset = dataset.map(\n",
    "    lambda x: {\"embeddings\": STS_MODEL.encode(x)},\n",
    "    input_columns=\"text\",\n",
    "    num_proc=1,\n",
    "    batch_size=1024,\n",
    ")"
   ]
  },
  {
   "cell_type": "code",
   "execution_count": 10,
   "metadata": {},
   "outputs": [
    {
     "data": {
      "application/vnd.jupyter.widget-view+json": {
       "model_id": "b74e80c87b9f45de94a2983eb6fb8f44",
       "version_major": 2,
       "version_minor": 0
      },
      "text/plain": [
       "Saving the dataset (0/2 shards):   0%|          | 0/169133 [00:00<?, ? examples/s]"
      ]
     },
     "metadata": {},
     "output_type": "display_data"
    }
   ],
   "source": [
    "dataset.save_to_disk(SAVE_PATH)"
   ]
  },
  {
   "cell_type": "markdown",
   "metadata": {},
   "source": [
    "## Cluster evaluation"
   ]
  },
  {
   "cell_type": "code",
   "execution_count": 71,
   "metadata": {},
   "outputs": [
    {
     "name": "stderr",
     "output_type": "stream",
     "text": [
      "/home/machine_learning/.anaconda3/envs/ia4gov/lib/python3.11/site-packages/datasets/table.py:1421: FutureWarning: promote has been superseded by mode='default'.\n",
      "  table = cls._concat_blocks(blocks, axis=0)\n"
     ]
    }
   ],
   "source": [
    "dataset = Dataset.load_from_disk(str(SAVE_PATH) + \"_2\")"
   ]
  },
  {
   "cell_type": "code",
   "execution_count": 109,
   "metadata": {},
   "outputs": [],
   "source": [
    "x = [i for i in dataset['cluster'] if i is not None]\n",
    "cls_index = np.unique(x)"
   ]
  },
  {
   "cell_type": "code",
   "execution_count": 96,
   "metadata": {},
   "outputs": [],
   "source": [
    "from pprint import pprint"
   ]
  },
  {
   "cell_type": "code",
   "execution_count": 118,
   "metadata": {},
   "outputs": [],
   "source": [
    "test = STS_MODEL.encode(\"supprimer les niches fiscales\")"
   ]
  },
  {
   "cell_type": "code",
   "execution_count": null,
   "metadata": {},
   "outputs": [],
   "source": []
  },
  {
   "cell_type": "code",
   "execution_count": 121,
   "metadata": {},
   "outputs": [
    {
     "data": {
      "application/vnd.jupyter.widget-view+json": {
       "model_id": "a34f040955db49a88aa405878f3cd831",
       "version_major": 2,
       "version_minor": 0
      },
      "text/plain": [
       "Filter:   0%|          | 0/169133 [00:00<?, ? examples/s]"
      ]
     },
     "metadata": {},
     "output_type": "display_data"
    }
   ],
   "source": [
    "subdataset = dataset.filter(lambda t: t == \"supprimer les niches fiscales\", input_columns='text')"
   ]
  },
  {
   "cell_type": "code",
   "execution_count": 127,
   "metadata": {},
   "outputs": [
    {
     "data": {
      "text/plain": [
       "Dataset({\n",
       "    features: ['id', 'text', 'embeddings', 'umap', 'umap_2d', 'cluster'],\n",
       "    num_rows: 1910\n",
       "})"
      ]
     },
     "execution_count": 127,
     "metadata": {},
     "output_type": "execute_result"
    }
   ],
   "source": [
    "subdataset"
   ]
  },
  {
   "cell_type": "code",
   "execution_count": 140,
   "metadata": {},
   "outputs": [],
   "source": [
    "from umap import UMAP\n",
    "from pacmap import PaCMAP"
   ]
  },
  {
   "cell_type": "code",
   "execution_count": 141,
   "metadata": {},
   "outputs": [
    {
     "name": "stderr",
     "output_type": "stream",
     "text": [
      "/home/machine_learning/.anaconda3/envs/ia4gov/lib/python3.11/site-packages/pacmap/pacmap.py:819: UserWarning: Warning: random state is set to 42\n",
      "  warnings.warn(f'Warning: random state is set to {_RANDOM_STATE}')\n",
      "/home/machine_learning/.anaconda3/envs/ia4gov/lib/python3.11/site-packages/sklearn/decomposition/_truncated_svd.py:273: RuntimeWarning: divide by zero encountered in divide\n",
      "  self.explained_variance_ratio_ = exp_var / full_var\n",
      "/home/machine_learning/.anaconda3/envs/ia4gov/lib/python3.11/site-packages/sklearn/decomposition/_truncated_svd.py:273: RuntimeWarning: invalid value encountered in divide\n",
      "  self.explained_variance_ratio_ = exp_var / full_var\n"
     ]
    },
    {
     "data": {
      "text/html": [
       "<style>#sk-container-id-2 {color: black;}#sk-container-id-2 pre{padding: 0;}#sk-container-id-2 div.sk-toggleable {background-color: white;}#sk-container-id-2 label.sk-toggleable__label {cursor: pointer;display: block;width: 100%;margin-bottom: 0;padding: 0.3em;box-sizing: border-box;text-align: center;}#sk-container-id-2 label.sk-toggleable__label-arrow:before {content: \"▸\";float: left;margin-right: 0.25em;color: #696969;}#sk-container-id-2 label.sk-toggleable__label-arrow:hover:before {color: black;}#sk-container-id-2 div.sk-estimator:hover label.sk-toggleable__label-arrow:before {color: black;}#sk-container-id-2 div.sk-toggleable__content {max-height: 0;max-width: 0;overflow: hidden;text-align: left;background-color: #f0f8ff;}#sk-container-id-2 div.sk-toggleable__content pre {margin: 0.2em;color: black;border-radius: 0.25em;background-color: #f0f8ff;}#sk-container-id-2 input.sk-toggleable__control:checked~div.sk-toggleable__content {max-height: 200px;max-width: 100%;overflow: auto;}#sk-container-id-2 input.sk-toggleable__control:checked~label.sk-toggleable__label-arrow:before {content: \"▾\";}#sk-container-id-2 div.sk-estimator input.sk-toggleable__control:checked~label.sk-toggleable__label {background-color: #d4ebff;}#sk-container-id-2 div.sk-label input.sk-toggleable__control:checked~label.sk-toggleable__label {background-color: #d4ebff;}#sk-container-id-2 input.sk-hidden--visually {border: 0;clip: rect(1px 1px 1px 1px);clip: rect(1px, 1px, 1px, 1px);height: 1px;margin: -1px;overflow: hidden;padding: 0;position: absolute;width: 1px;}#sk-container-id-2 div.sk-estimator {font-family: monospace;background-color: #f0f8ff;border: 1px dotted black;border-radius: 0.25em;box-sizing: border-box;margin-bottom: 0.5em;}#sk-container-id-2 div.sk-estimator:hover {background-color: #d4ebff;}#sk-container-id-2 div.sk-parallel-item::after {content: \"\";width: 100%;border-bottom: 1px solid gray;flex-grow: 1;}#sk-container-id-2 div.sk-label:hover label.sk-toggleable__label {background-color: #d4ebff;}#sk-container-id-2 div.sk-serial::before {content: \"\";position: absolute;border-left: 1px solid gray;box-sizing: border-box;top: 0;bottom: 0;left: 50%;z-index: 0;}#sk-container-id-2 div.sk-serial {display: flex;flex-direction: column;align-items: center;background-color: white;padding-right: 0.2em;padding-left: 0.2em;position: relative;}#sk-container-id-2 div.sk-item {position: relative;z-index: 1;}#sk-container-id-2 div.sk-parallel {display: flex;align-items: stretch;justify-content: center;background-color: white;position: relative;}#sk-container-id-2 div.sk-item::before, #sk-container-id-2 div.sk-parallel-item::before {content: \"\";position: absolute;border-left: 1px solid gray;box-sizing: border-box;top: 0;bottom: 0;left: 50%;z-index: -1;}#sk-container-id-2 div.sk-parallel-item {display: flex;flex-direction: column;z-index: 1;position: relative;background-color: white;}#sk-container-id-2 div.sk-parallel-item:first-child::after {align-self: flex-end;width: 50%;}#sk-container-id-2 div.sk-parallel-item:last-child::after {align-self: flex-start;width: 50%;}#sk-container-id-2 div.sk-parallel-item:only-child::after {width: 0;}#sk-container-id-2 div.sk-dashed-wrapped {border: 1px dashed gray;margin: 0 0.4em 0.5em 0.4em;box-sizing: border-box;padding-bottom: 0.4em;background-color: white;}#sk-container-id-2 div.sk-label label {font-family: monospace;font-weight: bold;display: inline-block;line-height: 1.2em;}#sk-container-id-2 div.sk-label-container {text-align: center;}#sk-container-id-2 div.sk-container {/* jupyter's `normalize.less` sets `[hidden] { display: none; }` but bootstrap.min.css set `[hidden] { display: none !important; }` so we also need the `!important` here to be able to override the default hidden behavior on the sphinx rendered scikit-learn.org. See: https://github.com/scikit-learn/scikit-learn/issues/21755 */display: inline-block !important;position: relative;}#sk-container-id-2 div.sk-text-repr-fallback {display: none;}</style><div id=\"sk-container-id-2\" class=\"sk-top-container\"><div class=\"sk-text-repr-fallback\"><pre>PaCMAP(pair_FP=array([[ 0, 51],\n",
       "       [ 0, 64],\n",
       "       [ 0, 45],\n",
       "       ...,\n",
       "       [99, 38],\n",
       "       [99, 52],\n",
       "       [99, 87]], dtype=int32),\n",
       "       pair_MN=array([[ 0, 71],\n",
       "       [ 0, 64],\n",
       "       [ 0, 96],\n",
       "       [ 0,  3],\n",
       "       [ 0, 61],\n",
       "       [ 1,  6],\n",
       "       [ 1, 68],\n",
       "       [ 1, 69],\n",
       "       [ 1,  4],\n",
       "       [ 1, 69],\n",
       "       [ 2, 13],\n",
       "       [ 2, 63],\n",
       "       [ 2,  2],\n",
       "       [ 2, 72],\n",
       "       [ 2, 64],\n",
       "       [ 3,  5],\n",
       "       [ 3, 35],\n",
       "       [ 3, 79],\n",
       "       [ 3, 65],\n",
       "       [ 3, 34],\n",
       "       [ 4, 11],\n",
       "       [ 4, 44],\n",
       "       [ 4, 54],\n",
       "       [ 4, 63],\n",
       "       [ 4, 79],\n",
       "       [ 5, 74],\n",
       "       [ 5, 63],\n",
       "       [ 5, 73],\n",
       "       [ 5,  0],\n",
       "       [ 5, 55],\n",
       "       [ 6, 69],\n",
       "       [ 6,  8],\n",
       "       [ 6, 73],\n",
       "       [ 6, 64],\n",
       "       [ 6,  0],\n",
       "       [ 7, 87],\n",
       "       [ 7, 54]...\n",
       "       [94, 34],\n",
       "       [94, 93],\n",
       "       [94, 18],\n",
       "       [94, 26],\n",
       "       [94, 77],\n",
       "       [95, 89],\n",
       "       [95, 87],\n",
       "       [95, 81],\n",
       "       [95, 84],\n",
       "       [95, 16],\n",
       "       [96, 74],\n",
       "       [96, 39],\n",
       "       [96, 53],\n",
       "       [96, 10],\n",
       "       [96, 33],\n",
       "       [97, 42],\n",
       "       [97, 48],\n",
       "       [97, 53],\n",
       "       [97, 46],\n",
       "       [97, 32],\n",
       "       [98, 10],\n",
       "       [98, 10],\n",
       "       [98, 64],\n",
       "       [98, 51],\n",
       "       [98, 34],\n",
       "       [99, 38],\n",
       "       [99, 53],\n",
       "       [99,  6],\n",
       "       [99, 40],\n",
       "       [99,  6]], dtype=int32),\n",
       "       pair_neighbors=array([[ 0, 79],\n",
       "       [ 0, 77],\n",
       "       [ 0, 76],\n",
       "       ...,\n",
       "       [99, 59],\n",
       "       [99, 58],\n",
       "       [99, 56]], dtype=int32),\n",
       "       random_state=42)</pre><b>In a Jupyter environment, please rerun this cell to show the HTML representation or trust the notebook. <br />On GitHub, the HTML representation is unable to render, please try loading this page with nbviewer.org.</b></div><div class=\"sk-container\" hidden><div class=\"sk-item\"><div class=\"sk-estimator sk-toggleable\"><input class=\"sk-toggleable__control sk-hidden--visually\" id=\"sk-estimator-id-2\" type=\"checkbox\" checked><label for=\"sk-estimator-id-2\" class=\"sk-toggleable__label sk-toggleable__label-arrow\">PaCMAP</label><div class=\"sk-toggleable__content\"><pre>PaCMAP(pair_FP=array([[ 0, 51],\n",
       "       [ 0, 64],\n",
       "       [ 0, 45],\n",
       "       ...,\n",
       "       [99, 38],\n",
       "       [99, 52],\n",
       "       [99, 87]], dtype=int32),\n",
       "       pair_MN=array([[ 0, 71],\n",
       "       [ 0, 64],\n",
       "       [ 0, 96],\n",
       "       [ 0,  3],\n",
       "       [ 0, 61],\n",
       "       [ 1,  6],\n",
       "       [ 1, 68],\n",
       "       [ 1, 69],\n",
       "       [ 1,  4],\n",
       "       [ 1, 69],\n",
       "       [ 2, 13],\n",
       "       [ 2, 63],\n",
       "       [ 2,  2],\n",
       "       [ 2, 72],\n",
       "       [ 2, 64],\n",
       "       [ 3,  5],\n",
       "       [ 3, 35],\n",
       "       [ 3, 79],\n",
       "       [ 3, 65],\n",
       "       [ 3, 34],\n",
       "       [ 4, 11],\n",
       "       [ 4, 44],\n",
       "       [ 4, 54],\n",
       "       [ 4, 63],\n",
       "       [ 4, 79],\n",
       "       [ 5, 74],\n",
       "       [ 5, 63],\n",
       "       [ 5, 73],\n",
       "       [ 5,  0],\n",
       "       [ 5, 55],\n",
       "       [ 6, 69],\n",
       "       [ 6,  8],\n",
       "       [ 6, 73],\n",
       "       [ 6, 64],\n",
       "       [ 6,  0],\n",
       "       [ 7, 87],\n",
       "       [ 7, 54]...\n",
       "       [94, 34],\n",
       "       [94, 93],\n",
       "       [94, 18],\n",
       "       [94, 26],\n",
       "       [94, 77],\n",
       "       [95, 89],\n",
       "       [95, 87],\n",
       "       [95, 81],\n",
       "       [95, 84],\n",
       "       [95, 16],\n",
       "       [96, 74],\n",
       "       [96, 39],\n",
       "       [96, 53],\n",
       "       [96, 10],\n",
       "       [96, 33],\n",
       "       [97, 42],\n",
       "       [97, 48],\n",
       "       [97, 53],\n",
       "       [97, 46],\n",
       "       [97, 32],\n",
       "       [98, 10],\n",
       "       [98, 10],\n",
       "       [98, 64],\n",
       "       [98, 51],\n",
       "       [98, 34],\n",
       "       [99, 38],\n",
       "       [99, 53],\n",
       "       [99,  6],\n",
       "       [99, 40],\n",
       "       [99,  6]], dtype=int32),\n",
       "       pair_neighbors=array([[ 0, 79],\n",
       "       [ 0, 77],\n",
       "       [ 0, 76],\n",
       "       ...,\n",
       "       [99, 59],\n",
       "       [99, 58],\n",
       "       [99, 56]], dtype=int32),\n",
       "       random_state=42)</pre></div></div></div></div></div>"
      ],
      "text/plain": [
       "PaCMAP(pair_FP=array([[ 0, 51],\n",
       "       [ 0, 64],\n",
       "       [ 0, 45],\n",
       "       ...,\n",
       "       [99, 38],\n",
       "       [99, 52],\n",
       "       [99, 87]], dtype=int32),\n",
       "       pair_MN=array([[ 0, 71],\n",
       "       [ 0, 64],\n",
       "       [ 0, 96],\n",
       "       [ 0,  3],\n",
       "       [ 0, 61],\n",
       "       [ 1,  6],\n",
       "       [ 1, 68],\n",
       "       [ 1, 69],\n",
       "       [ 1,  4],\n",
       "       [ 1, 69],\n",
       "       [ 2, 13],\n",
       "       [ 2, 63],\n",
       "       [ 2,  2],\n",
       "       [ 2, 72],\n",
       "       [ 2, 64],\n",
       "       [ 3,  5],\n",
       "       [ 3, 35],\n",
       "       [ 3, 79],\n",
       "       [ 3, 65],\n",
       "       [ 3, 34],\n",
       "       [ 4, 11],\n",
       "       [ 4, 44],\n",
       "       [ 4, 54],\n",
       "       [ 4, 63],\n",
       "       [ 4, 79],\n",
       "       [ 5, 74],\n",
       "       [ 5, 63],\n",
       "       [ 5, 73],\n",
       "       [ 5,  0],\n",
       "       [ 5, 55],\n",
       "       [ 6, 69],\n",
       "       [ 6,  8],\n",
       "       [ 6, 73],\n",
       "       [ 6, 64],\n",
       "       [ 6,  0],\n",
       "       [ 7, 87],\n",
       "       [ 7, 54]...\n",
       "       [94, 34],\n",
       "       [94, 93],\n",
       "       [94, 18],\n",
       "       [94, 26],\n",
       "       [94, 77],\n",
       "       [95, 89],\n",
       "       [95, 87],\n",
       "       [95, 81],\n",
       "       [95, 84],\n",
       "       [95, 16],\n",
       "       [96, 74],\n",
       "       [96, 39],\n",
       "       [96, 53],\n",
       "       [96, 10],\n",
       "       [96, 33],\n",
       "       [97, 42],\n",
       "       [97, 48],\n",
       "       [97, 53],\n",
       "       [97, 46],\n",
       "       [97, 32],\n",
       "       [98, 10],\n",
       "       [98, 10],\n",
       "       [98, 64],\n",
       "       [98, 51],\n",
       "       [98, 34],\n",
       "       [99, 38],\n",
       "       [99, 53],\n",
       "       [99,  6],\n",
       "       [99, 40],\n",
       "       [99,  6]], dtype=int32),\n",
       "       pair_neighbors=array([[ 0, 79],\n",
       "       [ 0, 77],\n",
       "       [ 0, 76],\n",
       "       ...,\n",
       "       [99, 59],\n",
       "       [99, 58],\n",
       "       [99, 56]], dtype=int32),\n",
       "       random_state=42)"
      ]
     },
     "execution_count": 141,
     "metadata": {},
     "output_type": "execute_result"
    }
   ],
   "source": [
    "umap = PaCMAP(random_state=42)\n",
    "umap.fit(subdataset[0:100][\"embeddings\"])"
   ]
  },
  {
   "cell_type": "code",
   "execution_count": 143,
   "metadata": {},
   "outputs": [],
   "source": [
    "test = umap.transform(\n",
    "    subdataset[0:100][\"embeddings\"], basis=subdataset[0:100][\"embeddings\"]\n",
    ")"
   ]
  },
  {
   "cell_type": "code",
   "execution_count": 144,
   "metadata": {},
   "outputs": [
    {
     "data": {
      "text/plain": [
       "<matplotlib.collections.PathCollection at 0x7f14859bca90>"
      ]
     },
     "execution_count": 144,
     "metadata": {},
     "output_type": "execute_result"
    },
    {
     "data": {
      "image/png": "[encoded data removed]",
      "text/plain": [
       "<Figure size 640x480 with 1 Axes>"
      ]
     },
     "metadata": {},
     "output_type": "display_data"
    }
   ],
   "source": [
    "plt.scatter(*test.T)"
   ]
  },
  {
   "cell_type": "code",
   "execution_count": 129,
   "metadata": {},
   "outputs": [
    {
     "data": {
      "text/plain": [
       "False"
      ]
     },
     "execution_count": 129,
     "metadata": {},
     "output_type": "execute_result"
    }
   ],
   "source": [
    "a = subdataset[10][\"umap_2d\"]\n",
    "b = subdataset[60][\"umap_2d\"]\n",
    "\n",
    "a == b"
   ]
  },
  {
   "cell_type": "code",
   "execution_count": 119,
   "metadata": {},
   "outputs": [
    {
     "data": {
      "text/plain": [
       "array([-0.6878276 , -0.17038675,  0.3779374 , ..., -0.21773651,\n",
       "       -0.14337079,  0.46836394], dtype=float32)"
      ]
     },
     "execution_count": 119,
     "metadata": {},
     "output_type": "execute_result"
    }
   ],
   "source": [
    "test"
   ]
  },
  {
   "cell_type": "code",
   "execution_count": 110,
   "metadata": {},
   "outputs": [
    {
     "data": {
      "application/vnd.jupyter.widget-view+json": {
       "model_id": "ae5f896268064b3a8bbafcce2c454bcf",
       "version_major": 2,
       "version_minor": 0
      },
      "text/plain": [
       "Filter:   0%|          | 0/169133 [00:00<?, ? examples/s]"
      ]
     },
     "metadata": {},
     "output_type": "display_data"
    },
    {
     "name": "stdout",
     "output_type": "stream",
     "text": [
      "Size cluster: 8022\n",
      "['faire payer les plus riches avant de taper sur les classes moyennes',\n",
      " \"remettre l'ISF\",\n",
      " 'faire payer les entreprises du cac40',\n",
      " 'baisser les impôts des plus vulnérables et des classes moyennes',\n",
      " 'supprimer les niches fiscales',\n",
      " \"réviser les tranches d'imposition et les taux\",\n",
      " 'supprimer la TVA sur les produits de 1ère nécessité',\n",
      " 'appliquer une TVA plus basse',\n",
      " 'sur les produits de première nécessité',\n",
      " \"sur l'ensemble des produits taxés\"]\n",
      "\n",
      "\n"
     ]
    },
    {
     "data": {
      "application/vnd.jupyter.widget-view+json": {
       "model_id": "353eb4d240354f5684845b206c74dad8",
       "version_major": 2,
       "version_minor": 0
      },
      "text/plain": [
       "Filter:   0%|          | 0/169133 [00:00<?, ? examples/s]"
      ]
     },
     "metadata": {},
     "output_type": "display_data"
    },
    {
     "name": "stdout",
     "output_type": "stream",
     "text": [
      "Size cluster: 405\n",
      "[\"augmenter le nombre de tranches de l'IR\",\n",
      " 'resserrer les tranches 1 à 3',\n",
      " 'passer la tranche 4 à 50%',\n",
      " 'créer une tranche intermédiaire à 60%',\n",
      " 'taxer à 70% les revenus supérieurs à 300000',\n",
      " 'supprimer les niches fiscales',\n",
      " \"lutte efficace contre l'évasion fiscale\",\n",
      " 'obligation pour les entreprises étrangères de payer des impôts en France',\n",
      " 'imposer les revenus pour tous',\n",
      " \"révision à la baisse des tranches d'imposition\"]\n",
      "\n",
      "\n"
     ]
    },
    {
     "data": {
      "application/vnd.jupyter.widget-view+json": {
       "model_id": "25a96e5a664c4d22961ed161df5b6f03",
       "version_major": 2,
       "version_minor": 0
      },
      "text/plain": [
       "Filter:   0%|          | 0/169133 [00:00<?, ? examples/s]"
      ]
     },
     "metadata": {},
     "output_type": "display_data"
    },
    {
     "name": "stdout",
     "output_type": "stream",
     "text": [
      "Size cluster: 892\n",
      "[\"faire payer l'IR des le premier euro\",\n",
      " 'ajouter une tranche à 50% sur les très hauts revenus',\n",
      " 'baisser légèrement les taux sur les classes moyennes',\n",
      " 'réduire/supprimer/plafonner les niches fiscales',\n",
      " \"ne pas revenir sur l'ISF\",\n",
      " \"rebaptiser l'IFI en ISFi\",\n",
      " 'baisse TVA sur les produits de première nécessité',\n",
      " 'augmenter TVA sur les produits luxe',\n",
      " 'baisse TVA sur les énergies vertes',\n",
      " 'suppression/réduction des impôts de production']\n",
      "\n",
      "\n"
     ]
    },
    {
     "data": {
      "application/vnd.jupyter.widget-view+json": {
       "model_id": "97981560990a481ea104ad51c7de65b1",
       "version_major": 2,
       "version_minor": 0
      },
      "text/plain": [
       "Filter:   0%|          | 0/169133 [00:00<?, ? examples/s]"
      ]
     },
     "metadata": {},
     "output_type": "display_data"
    },
    {
     "name": "stdout",
     "output_type": "stream",
     "text": [
      "Size cluster: 948\n",
      "['baisse des indemnités pour chaque élu',\n",
      " 'imposition plus importante des grandes sociétés et multinationales',\n",
      " \"taxes bien plus élevées sur l'Import\",\n",
      " 'refonte des niches de défiscalisation',\n",
      " 'pénalités et taxes trésimportantes pour les entreprises qui délocalisent',\n",
      " 'contribution globale des ménages',\n",
      " 'progressivité avec les revenus',\n",
      " 'remise à plat des tranches',\n",
      " 'arrêt de certaines niches fiscales',\n",
      " \"création d'une tranche IR à 50 ou 55%\"]\n",
      "\n",
      "\n"
     ]
    },
    {
     "data": {
      "application/vnd.jupyter.widget-view+json": {
       "model_id": "e67d1b2d028f4ccbbf2540618a3a84d5",
       "version_major": 2,
       "version_minor": 0
      },
      "text/plain": [
       "Filter:   0%|          | 0/169133 [00:00<?, ? examples/s]"
      ]
     },
     "metadata": {},
     "output_type": "display_data"
    },
    {
     "name": "stdout",
     "output_type": "stream",
     "text": [
      "Size cluster: 700\n",
      "['supprimer les impôts et taxes incompréhensibles',\n",
      " \"supprimer l'imposition de la part CSG imposable sur des revenus déjà déduits \"\n",
      " \"du net pour l'ensemble des revenus\",\n",
      " \"fusionner la CSG et l'impôt sur le revenu\",\n",
      " 'instaurer des tranches sur ce nouvel impôt',\n",
      " 'tranche maximale à 60%',\n",
      " 'diminution des niches fiscales',\n",
      " 'faire payer une juste quotes-parts à tous les salariés et professionnels '\n",
      " 'libéraux',\n",
      " \"arrêter l'impôt sur le revenu et utiliser la CSG pour tous\",\n",
      " 'supprimer un impôt qui touche tous le monde',\n",
      " 'TVA']\n",
      "\n",
      "\n"
     ]
    },
    {
     "data": {
      "application/vnd.jupyter.widget-view+json": {
       "model_id": "428e3fca0b8b4c0e982e4de39e6b1589",
       "version_major": 2,
       "version_minor": 0
      },
      "text/plain": [
       "Filter:   0%|          | 0/169133 [00:00<?, ? examples/s]"
      ]
     },
     "metadata": {},
     "output_type": "display_data"
    },
    {
     "name": "stdout",
     "output_type": "stream",
     "text": [
      "Size cluster: 577\n",
      "['supprimer toutes les niches fiscales',\n",
      " 'taxer beaucoup plus les successions, par paliers progressifs',\n",
      " 'taxer les successions à 50/70%',\n",
      " \"augmenter la base d'imposition\",\n",
      " 'ajouter des tranches',\n",
      " 'tranche minimale plus basse',\n",
      " 'tranche marginale à 55%',\n",
      " \"hausser le taux de l'impôt sur les grosses successions\",\n",
      " 'augmenter le nombre de tranches',\n",
      " 'taxer plus fortement les grosses successions']\n",
      "\n",
      "\n"
     ]
    },
    {
     "data": {
      "application/vnd.jupyter.widget-view+json": {
       "model_id": "3e98fc3cecc24fa7baf6ff62e13fdcc6",
       "version_major": 2,
       "version_minor": 0
      },
      "text/plain": [
       "Filter:   0%|          | 0/169133 [00:00<?, ? examples/s]"
      ]
     },
     "metadata": {},
     "output_type": "display_data"
    },
    {
     "name": "stdout",
     "output_type": "stream",
     "text": [
      "Size cluster: 1694\n",
      "['supprimer les niches fiscales',\n",
      " 'empêcher l’évasion fiscale',\n",
      " 'ajouter des tranches fiscales au delà de 45%',\n",
      " 'protéger les classes inférieures et moyennes',\n",
      " \"lutter contre l'évasion et l'optimisation fiscales\",\n",
      " \"lutter contre l'évasion fiscale et la fraude\",\n",
      " 'évaluer les niches fiscales',\n",
      " 'supprimer les niches abusives',\n",
      " 'créer une tranche supplémentaire',\n",
      " 'taxer les multinationales']\n",
      "\n",
      "\n"
     ]
    },
    {
     "data": {
      "application/vnd.jupyter.widget-view+json": {
       "model_id": "9e353f2acd684888930909f23c86d8dc",
       "version_major": 2,
       "version_minor": 0
      },
      "text/plain": [
       "Filter:   0%|          | 0/169133 [00:00<?, ? examples/s]"
      ]
     },
     "metadata": {},
     "output_type": "display_data"
    },
    {
     "name": "stdout",
     "output_type": "stream",
     "text": [
      "Size cluster: 394\n",
      "['imposition sur les revenus pour tous dès le 1er euro',\n",
      " \"création d'une tranche inférieure imposée à 5 %\",\n",
      " \"création d'une tranche supérieure imposée à 50 % pour les revenus supérieurs \"\n",
      " 'à 1 M euros',\n",
      " 'Impôt sur le revenu pour tous dès le 1er euro',\n",
      " 'tranche basse',\n",
      " 'suppression de la tranche à 5%',\n",
      " 'imposer tous',\n",
      " 'impôt symbolique pour les plus modestes',\n",
      " \"taxe d'habitation pour tous\",\n",
      " \"prendre en compte l'ensemble des revenus\"]\n",
      "\n",
      "\n"
     ]
    },
    {
     "data": {
      "application/vnd.jupyter.widget-view+json": {
       "model_id": "df4e8394e8f643bc86c9a2a39d0c2a22",
       "version_major": 2,
       "version_minor": 0
      },
      "text/plain": [
       "Filter:   0%|          | 0/169133 [00:00<?, ? examples/s]"
      ]
     },
     "metadata": {},
     "output_type": "display_data"
    },
    {
     "name": "stdout",
     "output_type": "stream",
     "text": [
      "Size cluster: 3000\n",
      "['adapter la TVA en fonction des catégories de produits',\n",
      " \"Très Faible TVA sur la nourriture issu de l'agriculture francaise, sur les \"\n",
      " 'produits de première necessité',\n",
      " 'Faible sur les produits made in france',\n",
      " 'TVA classique sur le reste',\n",
      " 'supprimer certaines niches fiscales',\n",
      " 'créer une tranche supérieure à 50%',\n",
      " 'diminuer la TVA sur les produits de première nécessité',\n",
      " 'augmenter la TVA sur les produits de luxe',\n",
      " 'suppression des niches fiscales',\n",
      " \"suppression d'aides inutiles\"]\n",
      "\n",
      "\n"
     ]
    },
    {
     "data": {
      "application/vnd.jupyter.widget-view+json": {
       "model_id": "3e17829450264f0a9382e0d3fd37a31a",
       "version_major": 2,
       "version_minor": 0
      },
      "text/plain": [
       "Filter:   0%|          | 0/169133 [00:00<?, ? examples/s]"
      ]
     },
     "metadata": {},
     "output_type": "display_data"
    },
    {
     "name": "stdout",
     "output_type": "stream",
     "text": [
      "Size cluster: 638\n",
      "[\"développer la lutte contre l'évasion et la fraude fiscales\",\n",
      " \"revoir les tranches du barème de l'impôt sur le revenu\",\n",
      " 'supprimer les niches fiscales',\n",
      " 'impôts pour tous dès le premier euro',\n",
      " 'davantage de tranches fiscales',\n",
      " 'réexamen des niches fiscales',\n",
      " 'fin de la hausse de CSG pour les retraités',\n",
      " 'réduire considérablement la TVA',\n",
      " 'supprimer la TVA sur les produits de 1ère nécessité',\n",
      " \"créer des tranches supplémentaires d'impôt sur le revenu\"]\n",
      "\n",
      "\n"
     ]
    },
    {
     "data": {
      "application/vnd.jupyter.widget-view+json": {
       "model_id": "1dbdc3a00b224018bed4708dace86e8e",
       "version_major": 2,
       "version_minor": 0
      },
      "text/plain": [
       "Filter:   0%|          | 0/169133 [00:00<?, ? examples/s]"
      ]
     },
     "metadata": {},
     "output_type": "display_data"
    },
    {
     "name": "stdout",
     "output_type": "stream",
     "text": [
      "Size cluster: 23922\n",
      "['arrêter de préférer les classes moyennes à la dépense des riches et des '\n",
      " 'bénéficiaires du système',\n",
      " 'impôts sur le revenu pour tout le monde',\n",
      " 'baisse de la tva pour tous les produits de 1ère nécessité et de sécurité',\n",
      " \"plus de progressivité pour l'impôt sur les revenus\",\n",
      " 'diminuer la contribution des classes moyennes',\n",
      " 'étaler les taux de 0 à 90% sur 14 tranches',\n",
      " \"une progressivité plus fine de l'impôt sur le revenu\",\n",
      " '12 tranches',\n",
      " 'taux maximal à 54%',\n",
      " 'impôts et allocations progressifs ou dégressifs sans seuils']\n",
      "\n",
      "\n"
     ]
    },
    {
     "data": {
      "application/vnd.jupyter.widget-view+json": {
       "model_id": "97ff75a283964d1da8ef6f29722b8472",
       "version_major": 2,
       "version_minor": 0
      },
      "text/plain": [
       "Filter:   0%|          | 0/169133 [00:00<?, ? examples/s]"
      ]
     },
     "metadata": {},
     "output_type": "display_data"
    },
    {
     "name": "stdout",
     "output_type": "stream",
     "text": [
      "Size cluster: 879\n",
      "[\"recalculer le bareme de l'impôt\",\n",
      " 'redéfinir les tranches',\n",
      " 'moins taxer les classes moyennes',\n",
      " \"élargir l'assiette fiscale\",\n",
      " \"atteindre à au moins 75% des ménages payant l'impôt\",\n",
      " \"adapter les tranches d'impositions\",\n",
      " 'égaliser les tranches intermédiaires',\n",
      " \"maintenir la suppression de l'ISF\",\n",
      " 'un seul impôt direct',\n",
      " 'individuel et progressif']\n",
      "\n",
      "\n"
     ]
    }
   ],
   "source": [
    "for i in cls_index:\n",
    "    subdata = dataset.filter(lambda cat: np.isin(cat, i), input_columns=\"cluster\")\n",
    "    #########\"\"\n",
    "    print(\"Size cluster:\", len(subdata))\n",
    "    pprint(subdata[:10][\"text\"])\n",
    "    print(\"\\n\")"
   ]
  }
 ],
 "metadata": {
  "kernelspec": {
   "display_name": "ia4gov",
   "language": "python",
   "name": "python3"
  },
  "language_info": {
   "codemirror_mode": {
    "name": "ipython",
    "version": 3
   },
   "file_extension": ".py",
   "mimetype": "text/x-python",
   "name": "python",
   "nbconvert_exporter": "python",
   "pygments_lexer": "ipython3",
   "version": "3.11.5"
  }
 },
 "nbformat": 4,
 "nbformat_minor": 2
}
